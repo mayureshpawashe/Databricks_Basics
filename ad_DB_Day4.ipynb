{
 "cells": [
  {
   "cell_type": "code",
   "execution_count": 0,
   "metadata": {
    "application/vnd.databricks.v1+cell": {
     "cellMetadata": {
      "byteLimit": 2048000,
      "rowLimit": 10000
     },
     "inputWidgets": {},
     "nuid": "b6711e46-a2b2-4ff2-a34c-7b0e1204f2cc",
     "showTitle": false,
     "tableResultSettingsMap": {},
     "title": ""
    }
   },
   "outputs": [
    {
     "output_type": "stream",
     "name": "stdout",
     "output_type": "stream",
     "text": [
      "hello\n"
     ]
    }
   ],
   "source": [
    "print(\"hello\")"
   ]
  },
  {
   "cell_type": "markdown",
   "metadata": {
    "application/vnd.databricks.v1+cell": {
     "cellMetadata": {},
     "inputWidgets": {},
     "nuid": "3bbf4616-8b14-4390-b4a0-c0b46d54492e",
     "showTitle": false,
     "tableResultSettingsMap": {},
     "title": ""
    }
   },
   "source": [
    "##Sample ETL Pipeline"
   ]
  },
  {
   "cell_type": "code",
   "execution_count": 0,
   "metadata": {
    "application/vnd.databricks.v1+cell": {
     "cellMetadata": {
      "byteLimit": 2048000,
      "rowLimit": 10000
     },
     "inputWidgets": {},
     "nuid": "a8bb43ea-685c-48f2-a9bd-9498866528b7",
     "showTitle": false,
     "tableResultSettingsMap": {},
     "title": ""
    }
   },
   "outputs": [
    {
     "output_type": "stream",
     "name": "stdout",
     "output_type": "stream",
     "text": [
      "✅ CSV file saved to /Volumes/workspace/default/data/restaurant_customer_data.csv\n"
     ]
    }
   ],
   "source": [
    "import requests\n",
    "csv_url = \"https://raw.githubusercontent.com/prasertcbs/basic-dataset/master/Restaurant%20customer%20data.csv\"\n",
    "local_path = \"/Volumes/workspace/default/data/restaurant_customer_data.csv\"\n",
    "response = requests.get(csv_url)\n",
    "with open(local_path, \"wb\") as f:\n",
    "    f.write(response.content)\n",
    "\n",
    "print(f\"✅ CSV file saved to {local_path}\")\n"
   ]
  },
  {
   "cell_type": "code",
   "execution_count": 0,
   "metadata": {
    "application/vnd.databricks.v1+cell": {
     "cellMetadata": {
      "byteLimit": 2048000,
      "rowLimit": 10000
     },
     "inputWidgets": {},
     "nuid": "bbd385f8-f1d1-4e71-9eb3-4635ff62a836",
     "showTitle": false,
     "tableResultSettingsMap": {},
     "title": ""
    }
   },
   "outputs": [
    {
     "output_type": "stream",
     "name": "stdout",
     "output_type": "stream",
     "text": [
      "✅ Data processed and saved to Delta format in: /Volumes/workspace/default/data/restaurant_customers_delta\n"
     ]
    }
   ],
   "source": [
    "from pyspark.sql import SparkSession\n",
    "from pyspark.sql.functions import col, when\n",
    "from pyspark.sql.types import IntegerType, FloatType\n",
    "\n",
    "spark = SparkSession.builder.appName(\"ETL Pipeline\").getOrCreate()\n",
    "df = spark.read.format(\"csv\").option(\"header\", \"true\").load(\"/Volumes/workspace/default/data/restaurant_customer_data.csv\")\n",
    "\n",
    "df_transformed = df.withColumn(\"birth_year\", when(col(\"birth_year\").rlike(\"^[0-9]+$\"), col(\"birth_year\").cast(IntegerType())).otherwise(None)) \\\n",
    "                   .withColumn(\"weight\", when(col(\"weight\").rlike(\"^[0-9]+(\\\\.[0-9]+)?$\"), col(\"weight\").cast(FloatType())).otherwise(None)) \\\n",
    "                   .withColumn(\"budget\", when(col(\"budget\").rlike(\"^[0-9]+(\\\\.[0-9]+)?$\"), col(\"budget\").cast(FloatType())).otherwise(None)) \\\n",
    "                   .withColumn(\"height\", when(col(\"height\").rlike(\"^[0-9]+(\\\\.[0-9]+)?$\"), col(\"height\").cast(FloatType())).otherwise(None))\n",
    "\n",
    "\n",
    "df_cleaned = df_transformed.na.drop(subset=[\"weight\", \"budget\", \"height\"])\n",
    "\n",
    "\n",
    "silver_table_path = \"/Volumes/workspace/default/data/restaurant_customers_delta\"\n",
    "df_cleaned.write.format(\"delta\").mode(\"overwrite\").save(silver_table_path)\n",
    "\n",
    "print(\"✅ Data processed and saved to Delta format in:\", silver_table_path)\n"
   ]
  }
 ],
 "metadata": {
  "application/vnd.databricks.v1+notebook": {
   "computePreferences": null,
   "dashboards": [],
   "environmentMetadata": {
    "base_environment": "",
    "environment_version": "2"
   },
   "language": "python",
   "notebookMetadata": {
    "pythonIndentUnit": 4
   },
   "notebookName": "ad_DB_Day4",
   "widgets": {}
  },
  "language_info": {
   "name": "python"
  }
 },
 "nbformat": 4,
 "nbformat_minor": 0
}